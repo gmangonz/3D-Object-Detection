{
 "cells": [
  {
   "cell_type": "code",
   "execution_count": 1,
   "metadata": {},
   "outputs": [
    {
     "name": "stderr",
     "output_type": "stream",
     "text": [
      "Failed to load Python extension for LZ4 support. LZ4 compression will not be available.\n"
     ]
    },
    {
     "name": "stdout",
     "output_type": "stream",
     "text": [
      "Jupyter environment detected. Enabling Open3D WebVisualizer.\n",
      "[Open3D INFO] WebRTC GUI backend enabled.\n",
      "[Open3D INFO] WebRTCWindowSystem: HTTP handshake server disabled.\n"
     ]
    }
   ],
   "source": [
    "from bagpy import bagreader\n",
    "import rospy\n",
    "import std_msgs.msg\n",
    "import sensor_msgs.point_cloud2 as pc2\n",
    "import pandas as pd\n",
    "import numpy as np\n",
    "import velodyne_decoder as vd\n",
    "import open3d as o3d\n",
    "from tqdm import tqdm\n",
    "import matplotlib.pyplot as plt\n",
    "import time\n",
    "import pandas as pd"
   ]
  },
  {
   "cell_type": "code",
   "execution_count": 2,
   "metadata": {},
   "outputs": [],
   "source": [
    "o3d.utility.set_verbosity_level(o3d.utility.VerbosityLevel(0))"
   ]
  },
  {
   "cell_type": "code",
   "execution_count": 12,
   "metadata": {},
   "outputs": [],
   "source": [
    "params = {'voxel_size': 0.3,\n",
    "          'distance_threshold': 0.2, \n",
    "          'ransac_n': 3, \n",
    "          'num_iterations': 500, \n",
    "          'eps': 0.9, \n",
    "          'min_points': 10, \n",
    "          'debug': False, \n",
    "          'verbose': False}\n",
    "\n",
    "lines = [[0, 1], [1, 2], [2, 3], [0, 3], \n",
    "         [4, 5], [5, 6], [6, 7], [4, 7],\n",
    "         [0, 4], [1, 5], [2, 6], [3, 7]]\n",
    "\n",
    "model='VLP-16'\n",
    "bagfile_loc = r'D:\\DL-CV-ML Projects\\3D Object Detection\\data\\2017-10-18-17-33-13_0.bag'\n",
    "topics = '/ns1/velodyne_packets' # '/ns2/velodyne_packets'"
   ]
  },
  {
   "cell_type": "code",
   "execution_count": 4,
   "metadata": {},
   "outputs": [],
   "source": [
    "from src.bboxes import get_bounding_boxes\n",
    "from src.cluster import down_segment_cluster\n",
    "from src.data_collection import get_cloud_arrays, cloud_arrays_to_point_clouds\n",
    "from src.visualize import get_frames, visualize"
   ]
  },
  {
   "cell_type": "code",
   "execution_count": 5,
   "metadata": {},
   "outputs": [
    {
     "name": "stderr",
     "output_type": "stream",
     "text": [
      "0it [00:00, ?it/s]"
     ]
    },
    {
     "name": "stderr",
     "output_type": "stream",
     "text": [
      "3331it [00:15, 208.95it/s]\n"
     ]
    }
   ],
   "source": [
    "config = vd.Config(model=model) \n",
    "lidar_topics = [topics] \n",
    "cloud_arrays = get_cloud_arrays(model, bagfile_loc, lidar_topics)"
   ]
  },
  {
   "cell_type": "code",
   "execution_count": 7,
   "metadata": {},
   "outputs": [],
   "source": [
    "point_clouds = cloud_arrays_to_point_clouds(cloud_arrays)"
   ]
  },
  {
   "cell_type": "code",
   "execution_count": 13,
   "metadata": {},
   "outputs": [
    {
     "name": "stderr",
     "output_type": "stream",
     "text": [
      "100%|██████████| 34/34 [00:04<00:00,  7.24it/s]\n"
     ]
    }
   ],
   "source": [
    "frames = get_frames(point_clouds, params, end=3331, interval=100)"
   ]
  },
  {
   "cell_type": "code",
   "execution_count": 14,
   "metadata": {},
   "outputs": [],
   "source": [
    "o3d.visualization.draw_geometries(frames[0][0])"
   ]
  },
  {
   "cell_type": "code",
   "execution_count": 15,
   "metadata": {},
   "outputs": [],
   "source": [
    "o3d.visualization.draw_geometries([frames[0][-1]])"
   ]
  },
  {
   "cell_type": "code",
   "execution_count": 16,
   "metadata": {},
   "outputs": [],
   "source": [
    "visualize(frames, lines)"
   ]
  }
 ],
 "metadata": {
  "kernelspec": {
   "display_name": "tf-o3d",
   "language": "python",
   "name": "python3"
  },
  "language_info": {
   "codemirror_mode": {
    "name": "ipython",
    "version": 3
   },
   "file_extension": ".py",
   "mimetype": "text/x-python",
   "name": "python",
   "nbconvert_exporter": "python",
   "pygments_lexer": "ipython3",
   "version": "3.8.0"
  },
  "orig_nbformat": 4
 },
 "nbformat": 4,
 "nbformat_minor": 2
}
